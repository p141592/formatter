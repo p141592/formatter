{
 "cells": [
  {
   "cell_type": "markdown",
   "metadata": {},
   "source": [
    "# Парсинг документации Python\n",
    "\n",
    "- Создать структуру\n",
    "- Определить модели, в которых текст будет храниться\n",
    "- Написать парсер материалов"
   ]
  },
  {
   "cell_type": "code",
   "execution_count": 2,
   "metadata": {},
   "outputs": [
    {
     "data": {
      "text/plain": [
       "'/Users/p141592/Projects/python_docs'"
      ]
     },
     "execution_count": 2,
     "metadata": {},
     "output_type": "execute_result"
    }
   ],
   "source": [
    "%pwd"
   ]
  },
  {
   "cell_type": "code",
   "execution_count": 4,
   "metadata": {},
   "outputs": [
    {
     "name": "stdout",
     "output_type": "stream",
     "text": [
      "first_code.ipynb  \u001b[34msource\u001b[m\u001b[m/\r\n"
     ]
    }
   ],
   "source": [
    "%ls"
   ]
  },
  {
   "cell_type": "code",
   "execution_count": 5,
   "metadata": {},
   "outputs": [
    {
     "name": "stdout",
     "output_type": "stream",
     "text": [
      "/Users/p141592/Projects/python_docs/source\n"
     ]
    }
   ],
   "source": [
    "%cd source/"
   ]
  },
  {
   "cell_type": "code",
   "execution_count": 7,
   "metadata": {},
   "outputs": [
    {
     "name": "stdout",
     "output_type": "stream",
     "text": [
      "about.txt      copyright.txt  \u001b[34mfaq\u001b[m\u001b[m/           \u001b[34minstalling\u001b[m\u001b[m/    \u001b[34mtutorial\u001b[m\u001b[m/\r\n",
      "bugs.txt       \u001b[34mdistributing\u001b[m\u001b[m/  glossary.txt   \u001b[34mlibrary\u001b[m\u001b[m/       \u001b[34musing\u001b[m\u001b[m/\r\n",
      "\u001b[34mc-api\u001b[m\u001b[m/         \u001b[34mdistutils\u001b[m\u001b[m/     \u001b[34mhowto\u001b[m\u001b[m/         license.txt    \u001b[34mwhatsnew\u001b[m\u001b[m/\r\n",
      "contents.txt   \u001b[34mextending\u001b[m\u001b[m/     \u001b[34minstall\u001b[m\u001b[m/       \u001b[34mreference\u001b[m\u001b[m/\r\n"
     ]
    }
   ],
   "source": [
    "%ls"
   ]
  },
  {
   "cell_type": "code",
   "execution_count": 13,
   "metadata": {},
   "outputs": [
    {
     "name": "stdout",
     "output_type": "stream",
     "text": [
      "[Errno 2] No such file or directory: 'tutorial/'\n",
      "/Users/p141592/Projects/python_docs/source/tutorial\n"
     ]
    }
   ],
   "source": [
    "%cd tutorial/"
   ]
  },
  {
   "cell_type": "code",
   "execution_count": 15,
   "metadata": {},
   "outputs": [
    {
     "name": "stdout",
     "output_type": "stream",
     "text": [
      "appendix.txt        errors.txt          interpreter.txt     venv.txt\r\n",
      "appetite.txt        floatingpoint.txt   introduction.txt    whatnow.txt\r\n",
      "classes.txt         index.txt           modules.txt\r\n",
      "controlflow.txt     inputoutput.txt     stdlib.txt\r\n",
      "datastructures.txt  interactive.txt     stdlib2.txt\r\n"
     ]
    }
   ],
   "source": [
    "%ls"
   ]
  },
  {
   "cell_type": "code",
   "execution_count": 17,
   "metadata": {},
   "outputs": [],
   "source": [
    "_first_file = open('interpreter.txt').readlines()"
   ]
  },
  {
   "cell_type": "markdown",
   "metadata": {},
   "source": [
    "## Правила форматирования файла\n",
    "\n",
    "`******` -- Заголовок материала\n",
    "\n",
    "`=======` -- Огравление абзаца \n",
    "\n",
    "`-----` -- Вложенный Абзац\n",
    "\n",
    "`* ` -- Элемент списка\n",
    "\n",
    "`[2 пробела]* ` -- Вложенный элемент\n",
    "\n",
    "`\"async\"` -- Термины в ковычках\n",
    "\n",
    "`4 пробела` -- Сниппет с кодом"
   ]
  },
  {
   "cell_type": "markdown",
   "metadata": {},
   "source": [
    "## Что я хочу сделать с текстом\n",
    "\n",
    "Загрузить файл целиком, и на выходе получить словарь с `terms`. Терм определяет тип объекта\n",
    "\n",
    "Пример:\n",
    "\n",
    "```\n",
    "{\n",
    "    'title': 'Title',\n",
    "    'content': [\n",
    "        Term(type='', content=dict: Term)\n",
    "    ]\n",
    "}\n",
    "```"
   ]
  },
  {
   "cell_type": "code",
   "execution_count": 23,
   "metadata": {},
   "outputs": [],
   "source": [
    "class Article:\n",
    "    \"\"\"\n",
    "    Объект, который хранит всю структуру документа.\n",
    "    Умеет сериализовать/десериловать объекты в базу\n",
    "    Хранит хеши и имеет свой собстенный хеш\n",
    "    \"\"\"\n",
    "    def __init__(document):\n",
    "        self.raw_document = document\n",
    "        "
   ]
  },
  {
   "cell_type": "code",
   "execution_count": null,
   "metadata": {},
   "outputs": [],
   "source": []
  }
 ],
 "metadata": {
  "kernelspec": {
   "display_name": "Python 3",
   "language": "python",
   "name": "python3"
  },
  "toc": {
   "base_numbering": 1,
   "nav_menu": {},
   "number_sections": true,
   "sideBar": true,
   "skip_h1_title": false,
   "title_cell": "Table of Contents",
   "title_sidebar": "Contents",
   "toc_cell": false,
   "toc_position": {},
   "toc_section_display": true,
   "toc_window_display": false
  },
  "varInspector": {
   "cols": {
    "lenName": 16,
    "lenType": 16,
    "lenVar": 40
   },
   "kernels_config": {
    "python": {
     "delete_cmd_postfix": "",
     "delete_cmd_prefix": "del ",
     "library": "var_list.py",
     "varRefreshCmd": "print(var_dic_list())"
    },
    "r": {
     "delete_cmd_postfix": ") ",
     "delete_cmd_prefix": "rm(",
     "library": "var_list.r",
     "varRefreshCmd": "cat(var_dic_list()) "
    }
   },
   "types_to_exclude": [
    "module",
    "function",
    "builtin_function_or_method",
    "instance",
    "_Feature"
   ],
   "window_display": false
  }
 },
 "nbformat": 4,
 "nbformat_minor": 2
}
